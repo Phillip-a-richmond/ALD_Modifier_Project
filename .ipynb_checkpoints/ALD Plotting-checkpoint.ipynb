{
 "cells": [
  {
   "cell_type": "code",
   "execution_count": 1,
   "metadata": {},
   "outputs": [],
   "source": [
    "from matplotlib import pyplot as plt\n",
    "from math import log\n",
    "import sys\n",
    "import numpy as np\n",
    "from matplotlib import gridspec\n",
    "\n",
    "import numpy as np\n",
    "import pandas as pd\n",
    "import seaborn as sns\n",
    "\n",
    "%matplotlib inline\n",
    "\n",
    "#sns.set()"
   ]
  },
  {
   "cell_type": "markdown",
   "metadata": {},
   "source": [
    "## SNV Indel Plotting"
   ]
  },
  {
   "cell_type": "markdown",
   "metadata": {},
   "source": [
    "Data for this plotting comes from various tsv files. The TSV files are generated from the Excel Spreadsheet."
   ]
  },
  {
   "cell_type": "markdown",
   "metadata": {},
   "source": [
    "First up is the SNV/indel with annotation category"
   ]
  },
  {
   "cell_type": "code",
   "execution_count": 2,
   "metadata": {},
   "outputs": [
    {
     "data": {
      "text/html": [
       "<div>\n",
       "<style scoped>\n",
       "    .dataframe tbody tr th:only-of-type {\n",
       "        vertical-align: middle;\n",
       "    }\n",
       "\n",
       "    .dataframe tbody tr th {\n",
       "        vertical-align: top;\n",
       "    }\n",
       "\n",
       "    .dataframe thead th {\n",
       "        text-align: right;\n",
       "    }\n",
       "</style>\n",
       "<table border=\"1\" class=\"dataframe\">\n",
       "  <thead>\n",
       "    <tr style=\"text-align: right;\">\n",
       "      <th></th>\n",
       "      <th>Annotation</th>\n",
       "      <th>Common</th>\n",
       "      <th>Rare</th>\n",
       "      <th>Total</th>\n",
       "    </tr>\n",
       "  </thead>\n",
       "  <tbody>\n",
       "    <tr>\n",
       "      <th>0</th>\n",
       "      <td>EXONIC</td>\n",
       "      <td>108349</td>\n",
       "      <td>13654</td>\n",
       "      <td>122003</td>\n",
       "    </tr>\n",
       "    <tr>\n",
       "      <th>1</th>\n",
       "      <td>SPLICING</td>\n",
       "      <td>8401</td>\n",
       "      <td>839</td>\n",
       "      <td>9240</td>\n",
       "    </tr>\n",
       "    <tr>\n",
       "      <th>2</th>\n",
       "      <td>GENEHANCER</td>\n",
       "      <td>823268</td>\n",
       "      <td>83051</td>\n",
       "      <td>906319</td>\n",
       "    </tr>\n",
       "    <tr>\n",
       "      <th>3</th>\n",
       "      <td>OTHER</td>\n",
       "      <td>5566173</td>\n",
       "      <td>513094</td>\n",
       "      <td>6079267</td>\n",
       "    </tr>\n",
       "  </tbody>\n",
       "</table>\n",
       "</div>"
      ],
      "text/plain": [
       "   Annotation   Common    Rare    Total\n",
       "0      EXONIC   108349   13654   122003\n",
       "1    SPLICING     8401     839     9240\n",
       "2  GENEHANCER   823268   83051   906319\n",
       "3       OTHER  5566173  513094  6079267"
      ]
     },
     "execution_count": 2,
     "metadata": {},
     "output_type": "execute_result"
    }
   ],
   "source": [
    "df = pd.read_csv('AllVariants_Annotations.tsv',sep='\\t')\n",
    "df.head()\n",
    "# df=df.set_index('Annotation')\n",
    "# df.head()\n"
   ]
  },
  {
   "cell_type": "code",
   "execution_count": 3,
   "metadata": {},
   "outputs": [
    {
     "data": {
      "image/png": "[encoded data removed]",
      "text/plain": [
       "<Figure size 288x432 with 1 Axes>"
      ]
     },
     "metadata": {},
     "output_type": "display_data"
    },
    {
     "data": {
      "image/png": "[encoded data removed]",
      "text/plain": [
       "<Figure size 432x288 with 2 Axes>"
      ]
     },
     "metadata": {},
     "output_type": "display_data"
    }
   ],
   "source": [
    "f,ax = plt.subplots(figsize=(4, 6))\n",
    "pd.pivot_table(df,index='Annotation',values=('Common','Rare')).plot(kind='pie',subplots=True,stacked=True)\n",
    "plt.tight_layout()\n",
    "plt.savefig('SNV_Indel_Annotation.svg')"
   ]
  },
  {
   "cell_type": "code",
   "execution_count": null,
   "metadata": {},
   "outputs": [],
   "source": []
  },
  {
   "cell_type": "code",
   "execution_count": null,
   "metadata": {},
   "outputs": [],
   "source": []
  },
  {
   "cell_type": "code",
   "execution_count": 4,
   "metadata": {},
   "outputs": [
    {
     "data": {
      "text/html": [
       "<div>\n",
       "<style scoped>\n",
       "    .dataframe tbody tr th:only-of-type {\n",
       "        vertical-align: middle;\n",
       "    }\n",
       "\n",
       "    .dataframe tbody tr th {\n",
       "        vertical-align: top;\n",
       "    }\n",
       "\n",
       "    .dataframe thead th {\n",
       "        text-align: right;\n",
       "    }\n",
       "</style>\n",
       "<table border=\"1\" class=\"dataframe\">\n",
       "  <thead>\n",
       "    <tr style=\"text-align: right;\">\n",
       "      <th></th>\n",
       "      <th>FamilyID</th>\n",
       "      <th>Dominant Protective</th>\n",
       "      <th>Recessive Protective</th>\n",
       "      <th>Dominant Damaging</th>\n",
       "      <th>Recessive Damaging</th>\n",
       "    </tr>\n",
       "  </thead>\n",
       "  <tbody>\n",
       "    <tr>\n",
       "      <th>0</th>\n",
       "      <td>Family 1</td>\n",
       "      <td>680689</td>\n",
       "      <td>357164</td>\n",
       "      <td>674398</td>\n",
       "      <td>360605</td>\n",
       "    </tr>\n",
       "    <tr>\n",
       "      <th>1</th>\n",
       "      <td>Family 2</td>\n",
       "      <td>567658</td>\n",
       "      <td>319395</td>\n",
       "      <td>564340</td>\n",
       "      <td>313927</td>\n",
       "    </tr>\n",
       "    <tr>\n",
       "      <th>2</th>\n",
       "      <td>Family 3</td>\n",
       "      <td>637223</td>\n",
       "      <td>351382</td>\n",
       "      <td>635893</td>\n",
       "      <td>368969</td>\n",
       "    </tr>\n",
       "    <tr>\n",
       "      <th>3</th>\n",
       "      <td>Family 4</td>\n",
       "      <td>590031</td>\n",
       "      <td>333934</td>\n",
       "      <td>593910</td>\n",
       "      <td>338893</td>\n",
       "    </tr>\n",
       "    <tr>\n",
       "      <th>4</th>\n",
       "      <td>Family 5</td>\n",
       "      <td>615484</td>\n",
       "      <td>377385</td>\n",
       "      <td>625218</td>\n",
       "      <td>353301</td>\n",
       "    </tr>\n",
       "  </tbody>\n",
       "</table>\n",
       "</div>"
      ],
      "text/plain": [
       "   FamilyID  Dominant Protective  Recessive Protective  Dominant Damaging  \\\n",
       "0  Family 1               680689                357164             674398   \n",
       "1  Family 2               567658                319395             564340   \n",
       "2  Family 3               637223                351382             635893   \n",
       "3  Family 4               590031                333934             593910   \n",
       "4  Family 5               615484                377385             625218   \n",
       "\n",
       "   Recessive Damaging  \n",
       "0              360605  \n",
       "1              313927  \n",
       "2              368969  \n",
       "3              338893  \n",
       "4              353301  "
      ]
     },
     "execution_count": 4,
     "metadata": {},
     "output_type": "execute_result"
    }
   ],
   "source": [
    "intradf = pd.read_csv('All-IntraFamily.tsv',sep='\\t')\n",
    "intradf.head()\n",
    "# df=df.set_index('FamilyID')\n",
    "# df.head()\n"
   ]
  },
  {
   "cell_type": "code",
   "execution_count": 5,
   "metadata": {},
   "outputs": [
    {
     "data": {
      "image/png": "[encoded data removed]",
      "text/plain": [
       "<Figure size 432x288 with 1 Axes>"
      ]
     },
     "metadata": {},
     "output_type": "display_data"
    },
    {
     "data": {
      "image/png": "[encoded data removed]",
      "text/plain": [
       "<Figure size 432x288 with 1 Axes>"
      ]
     },
     "metadata": {},
     "output_type": "display_data"
    }
   ],
   "source": [
    "f,ax=plt.subplots(figsize=(6,4))\n",
    "pd.pivot_table(intradf,index='FamilyID',values=('Dominant Protective',\n",
    "                                         'Recessive Protective',\n",
    "                                         'Dominant Damaging',\n",
    "                                         'Recessive Damaging')).plot(kind='bar')\n",
    "\n",
    "plt.tight_layout()\n",
    "plt.legend(loc='best')\n",
    "plt.savefig('IntraFamilyBarPlot.svg')\n"
   ]
  },
  {
   "cell_type": "code",
   "execution_count": 6,
   "metadata": {},
   "outputs": [
    {
     "name": "stderr",
     "output_type": "stream",
     "text": [
      "/Users/philliprichmond/miniconda3/lib/python3.6/site-packages/scipy/stats/stats.py:1713: FutureWarning: Using a non-tuple sequence for multidimensional indexing is deprecated; use `arr[tuple(seq)]` instead of `arr[seq]`. In the future this will be interpreted as an array index, `arr[np.array(seq)]`, which will result either in an error or a different result.\n",
      "  return np.add.reduce(sorted[indexer] * weights, axis=axis) / sumval\n"
     ]
    },
    {
     "data": {
      "image/png": "[encoded data removed]",
      "text/plain": [
       "<Figure size 288x432 with 1 Axes>"
      ]
     },
     "metadata": {},
     "output_type": "display_data"
    }
   ],
   "source": [
    "f,ax = plt.subplots(figsize=(4, 6))\n",
    "sns.barplot(data=intradf)\n",
    "sns.swarmplot(data=intradf)\n",
    "plt.xticks(rotation=90)\n",
    "plt.ylim(0,700000)\n",
    "plt.savefig('AllVariants_IntraFamilyComparison.svg')\n"
   ]
  },
  {
   "cell_type": "markdown",
   "metadata": {},
   "source": [
    "Brought this figure into illustrator and recoloured to match other figures"
   ]
  },
  {
   "cell_type": "markdown",
   "metadata": {},
   "source": [
    "## Intra-family comparisons boiled down\n"
   ]
  },
  {
   "cell_type": "markdown",
   "metadata": {},
   "source": [
    "Here I'm plotting the boiled down intra-family comparisons"
   ]
  },
  {
   "cell_type": "code",
   "execution_count": 13,
   "metadata": {},
   "outputs": [
    {
     "data": {
      "text/html": [
       "<div>\n",
       "<style scoped>\n",
       "    .dataframe tbody tr th:only-of-type {\n",
       "        vertical-align: middle;\n",
       "    }\n",
       "\n",
       "    .dataframe tbody tr th {\n",
       "        vertical-align: top;\n",
       "    }\n",
       "\n",
       "    .dataframe thead th {\n",
       "        text-align: right;\n",
       "    }\n",
       "</style>\n",
       "<table border=\"1\" class=\"dataframe\">\n",
       "  <thead>\n",
       "    <tr style=\"text-align: right;\">\n",
       "      <th></th>\n",
       "      <th>Intersect</th>\n",
       "      <th>Dominant Damaging</th>\n",
       "      <th>Recessive Damaging</th>\n",
       "      <th>Dominant Protective</th>\n",
       "      <th>Recessive Protective</th>\n",
       "    </tr>\n",
       "  </thead>\n",
       "  <tbody>\n",
       "    <tr>\n",
       "      <th>0</th>\n",
       "      <td>1</td>\n",
       "      <td>2318438</td>\n",
       "      <td>1264373</td>\n",
       "      <td>2312297</td>\n",
       "      <td>1282980</td>\n",
       "    </tr>\n",
       "    <tr>\n",
       "      <th>1</th>\n",
       "      <td>2</td>\n",
       "      <td>537394</td>\n",
       "      <td>317558</td>\n",
       "      <td>531696</td>\n",
       "      <td>319150</td>\n",
       "    </tr>\n",
       "    <tr>\n",
       "      <th>2</th>\n",
       "      <td>3</td>\n",
       "      <td>90245</td>\n",
       "      <td>55585</td>\n",
       "      <td>93629</td>\n",
       "      <td>50184</td>\n",
       "    </tr>\n",
       "    <tr>\n",
       "      <th>3</th>\n",
       "      <td>4</td>\n",
       "      <td>9722</td>\n",
       "      <td>4869</td>\n",
       "      <td>11824</td>\n",
       "      <td>5211</td>\n",
       "    </tr>\n",
       "    <tr>\n",
       "      <th>4</th>\n",
       "      <td>5</td>\n",
       "      <td>473</td>\n",
       "      <td>291</td>\n",
       "      <td>573</td>\n",
       "      <td>260</td>\n",
       "    </tr>\n",
       "    <tr>\n",
       "      <th>5</th>\n",
       "      <td>6</td>\n",
       "      <td>4</td>\n",
       "      <td>1</td>\n",
       "      <td>8</td>\n",
       "      <td>1</td>\n",
       "    </tr>\n",
       "  </tbody>\n",
       "</table>\n",
       "</div>"
      ],
      "text/plain": [
       "   Intersect  Dominant Damaging  Recessive Damaging  Dominant Protective  \\\n",
       "0          1            2318438             1264373              2312297   \n",
       "1          2             537394              317558               531696   \n",
       "2          3              90245               55585                93629   \n",
       "3          4               9722                4869                11824   \n",
       "4          5                473                 291                  573   \n",
       "5          6                  4                   1                    8   \n",
       "\n",
       "   Recessive Protective  \n",
       "0               1282980  \n",
       "1                319150  \n",
       "2                 50184  \n",
       "3                  5211  \n",
       "4                   260  \n",
       "5                     1  "
      ]
     },
     "execution_count": 13,
     "metadata": {},
     "output_type": "execute_result"
    }
   ],
   "source": [
    "df = pd.read_csv('SummarizedIntraFamilyComparisons.tsv',sep='\\t')\n",
    "df\n"
   ]
  },
  {
   "cell_type": "code",
   "execution_count": 14,
   "metadata": {},
   "outputs": [
    {
     "data": {
      "image/png": "[encoded data removed]",
      "text/plain": [
       "<Figure size 432x288 with 1 Axes>"
      ]
     },
     "metadata": {},
     "output_type": "display_data"
    }
   ],
   "source": [
    "f,ax = plt.subplots(figsize=(6, 4))\n",
    "pd.pivot_table(df,index='Intersect',values=('Dominant Damaging',\n",
    "                                            'Recessive Damaging',\n",
    "                                            'Dominant Protective', \n",
    "                                            'Recessive Protective')\n",
    "              ).plot(kind='bar',ax=ax,log=True)\n",
    "\n",
    "plt.tight_layout()\n",
    "plt.savefig('ReductionInCandidates.png')\n"
   ]
  },
  {
   "cell_type": "markdown",
   "metadata": {},
   "source": [
    "# ALD Smoove With AnnotSV\n"
   ]
  },
  {
   "cell_type": "code",
   "execution_count": 1,
   "metadata": {},
   "outputs": [],
   "source": [
    "import sys, os\n",
    "import seaborn as sns\n",
    "import scipy as sp\n",
    "from matplotlib import pyplot as plt\n",
    "import numpy as np\n",
    "import pandas as pd\n",
    "\n",
    "%matplotlib inline\n",
    "font = {'family' : 'serif',\n",
    "        'weight' : 'bold',\n",
    "        'size'   : 22}\n",
    "\n"
   ]
  },
  {
   "cell_type": "markdown",
   "metadata": {},
   "source": [
    "### This is what this file looks like:\n",
    "AnnotSV ID\tSV chrom\tSV start\tSV end\tSV length\tSV type\tREF\tALT\tFORMAT\tALD010_BWAmem\tALD011_BWAmem\tALD026_BWAmem\tALD027_BWAmem\tALD036_BWAmem\tALD041_BWAmem\tALD042_BWAmem\tALD048_BWAmem\tALD049_BWAmem\tALD058_BWAmem\tALD059_BWAmem\tALD065_BWAmem\tAnnotSV type\tGene name\tNM\tCDS length\ttx length\tlocation\tintersectStart\tintersectEnd\tDGV_GAIN_IDs\tDGV_GAIN_n_samples_with_SV\tDGV_GAIN_n_samples_tested\tDGV_GAIN_Frequency\tDGV_LOSS_IDs\tDGV_LOSS_n_samples_with_SV\tDGV_LOSS_n_samples_tested\tDGV_LOSS_Frequency\tGD_ID\tGD_AN\tGD_N_HET\tGD_N_HOMALT\tGD_AF\tGD_POPMAX_AF\tGD_ID_others\tDDD_SV\tDDD_DUP_n_samples_with_SV\tDDD_DUP_Frequency\tDDD_DEL_n_samples_with_SV\tDDD_DEL_Frequency\t1000g_event\t1000g_AF\t1000g_max_AF\tIMH_ID\tIMH_AF\tIMH_ID_others\tpromoters\tdbVar_event\tdbVar_variant\tdbVar_status\tTADcoordinates\tENCODEexperiments\tGCcontent_left\tGCcontent_right\tRepeats_coord_left\tRepeats_type_left\tRepeats_coord_right\tRepeats_type_right\tACMG\tHI_CGscore\tTriS_CGscore\tDDD_status\tDDD_mode\tDDD_consequence\tDDD_disease\tDDD_pmids\tHI_DDDpercent\tsynZ_ExAC\tmisZ_ExAC\tpLI_ExAC\tdelZ_ExAC\tdupZ_ExAC\tcnvZ_ExAC\tmorbidGenes\tmorbidGenesCandidates\tMim Number\tPhenotypes\tInheritance\tAnnotSV ranking"
   ]
  },
  {
   "cell_type": "code",
   "execution_count": 12,
   "metadata": {},
   "outputs": [
    {
     "name": "stdout",
     "output_type": "stream",
     "text": [
      "0\tAnnotSV ID\n",
      "1\tSV chrom\n",
      "2\tSV start\n",
      "3\tSV end\n",
      "4\tSV length\n",
      "5\tSV type\n",
      "6\tREF\n",
      "7\tALT\n",
      "8\tFORMAT\n",
      "9\tALD010_BWAmem\n",
      "10\tALD011_BWAmem\n",
      "11\tALD026_BWAmem\n",
      "12\tALD027_BWAmem\n",
      "13\tALD036_BWAmem\n",
      "14\tALD041_BWAmem\n",
      "15\tALD042_BWAmem\n",
      "16\tALD048_BWAmem\n",
      "17\tALD049_BWAmem\n",
      "18\tALD058_BWAmem\n",
      "19\tALD059_BWAmem\n",
      "20\tALD065_BWAmem\n",
      "21\tAnnotSV type\n",
      "22\tGene name\n",
      "23\tNM\n",
      "24\tCDS length\n",
      "25\ttx length\n",
      "26\tlocation\n",
      "27\tintersectStart\n",
      "28\tintersectEnd\n",
      "29\tDGV_GAIN_IDs\n",
      "30\tDGV_GAIN_n_samples_with_SV\n",
      "31\tDGV_GAIN_n_samples_tested\n",
      "32\tDGV_GAIN_Frequency\n",
      "33\tDGV_LOSS_IDs\n",
      "34\tDGV_LOSS_n_samples_with_SV\n",
      "35\tDGV_LOSS_n_samples_tested\n",
      "36\tDGV_LOSS_Frequency\n",
      "37\tGD_ID\n",
      "38\tGD_AN\n",
      "39\tGD_N_HET\n",
      "40\tGD_N_HOMALT\n",
      "41\tGD_AF\n",
      "42\tGD_POPMAX_AF\n",
      "43\tGD_ID_others\n",
      "44\tDDD_SV\n",
      "45\tDDD_DUP_n_samples_with_SV\n",
      "46\tDDD_DUP_Frequency\n",
      "47\tDDD_DEL_n_samples_with_SV\n",
      "48\tDDD_DEL_Frequency\n",
      "49\t1000g_event\n",
      "50\t1000g_AF\n",
      "51\t1000g_max_AF\n",
      "52\tIMH_ID\n",
      "53\tIMH_AF\n",
      "54\tIMH_ID_others\n",
      "55\tpromoters\n",
      "56\tdbVar_event\n",
      "57\tdbVar_variant\n",
      "58\tdbVar_status\n",
      "59\tTADcoordinates\n",
      "60\tENCODEexperiments\n",
      "61\tGCcontent_left\n",
      "62\tGCcontent_right\n",
      "63\tRepeats_coord_left\n",
      "64\tRepeats_type_left\n",
      "65\tRepeats_coord_right\n",
      "66\tRepeats_type_right\n",
      "67\tACMG\n",
      "68\tHI_CGscore\n",
      "69\tTriS_CGscore\n",
      "70\tDDD_status\n",
      "71\tDDD_mode\n",
      "72\tDDD_consequence\n",
      "73\tDDD_disease\n",
      "74\tDDD_pmids\n",
      "75\tHI_DDDpercent\n",
      "76\tsynZ_ExAC\n",
      "77\tmisZ_ExAC\n",
      "78\tpLI_ExAC\n",
      "79\tdelZ_ExAC\n",
      "80\tdupZ_ExAC\n",
      "81\tcnvZ_ExAC\n",
      "82\tmorbidGenes\n",
      "83\tmorbidGenesCandidates\n",
      "84\tMim Number\n",
      "85\tPhenotypes\n",
      "86\tInheritance\n",
      "87\tAnnotSV ranking\n"
     ]
    }
   ],
   "source": [
    "# In columns:\n",
    "head=\"AnnotSV ID\tSV chrom\tSV start\tSV end\tSV length\tSV type\tREF\tALT\tFORMAT\tALD010_BWAmem\tALD011_BWAmem\tALD026_BWAmem\tALD027_BWAmem\tALD036_BWAmem\tALD041_BWAmem\tALD042_BWAmem\tALD048_BWAmem\tALD049_BWAmem\tALD058_BWAmem\tALD059_BWAmem\tALD065_BWAmem\tAnnotSV type\tGene name\tNM\tCDS length\ttx length\tlocation\tintersectStart\tintersectEnd\tDGV_GAIN_IDs\tDGV_GAIN_n_samples_with_SV\tDGV_GAIN_n_samples_tested\tDGV_GAIN_Frequency\tDGV_LOSS_IDs\tDGV_LOSS_n_samples_with_SV\tDGV_LOSS_n_samples_tested\tDGV_LOSS_Frequency\tGD_ID\tGD_AN\tGD_N_HET\tGD_N_HOMALT\tGD_AF\tGD_POPMAX_AF\tGD_ID_others\tDDD_SV\tDDD_DUP_n_samples_with_SV\tDDD_DUP_Frequency\tDDD_DEL_n_samples_with_SV\tDDD_DEL_Frequency\t1000g_event\t1000g_AF\t1000g_max_AF\tIMH_ID\tIMH_AF\tIMH_ID_others\tpromoters\tdbVar_event\tdbVar_variant\tdbVar_status\tTADcoordinates\tENCODEexperiments\tGCcontent_left\tGCcontent_right\tRepeats_coord_left\tRepeats_type_left\tRepeats_coord_right\tRepeats_type_right\tACMG\tHI_CGscore\tTriS_CGscore\tDDD_status\tDDD_mode\tDDD_consequence\tDDD_disease\tDDD_pmids\tHI_DDDpercent\tsynZ_ExAC\tmisZ_ExAC\tpLI_ExAC\tdelZ_ExAC\tdupZ_ExAC\tcnvZ_ExAC\tmorbidGenes\tmorbidGenesCandidates\tMim Number\tPhenotypes\tInheritance\tAnnotSV ranking\"\n",
    "cols=head.split('\\t')\n",
    "for i in range(len(cols)):\n",
    "    print(\"%d\\t%s\"%(i,cols[i]))"
   ]
  },
  {
   "cell_type": "code",
   "execution_count": null,
   "metadata": {},
   "outputs": [],
   "source": []
  },
  {
   "cell_type": "markdown",
   "metadata": {},
   "source": [
    "This function takes in the vector of GTs, and parses it into an array of 0,1,2 where 0 is homo ref, 1 is het, and 2 is homo alt"
   ]
  },
  {
   "cell_type": "code",
   "execution_count": null,
   "metadata": {},
   "outputs": [],
   "source": [
    "def GTs2Vector(GTArray):\n",
    "    "
   ]
  },
  {
   "cell_type": "code",
   "execution_count": 13,
   "metadata": {},
   "outputs": [],
   "source": [
    "def ParseAnnotSV(infilename):\n",
    "    infile = open(infilename,'r')\n",
    "    headerline = infile.readline()\n",
    "    Discordant = []\n",
    "    for line in infile:\n",
    "        cols = line.strip('\\n').split('\\t')\n",
    "       # 9-20\n",
    "        ALD010=cols[9]\n",
    "        ALD011=cols[10]\n",
    "        ALD026=cols[11]\n",
    "        ALD027=cols[12]\n",
    "        ALD036=cols[13]\n",
    "        ALD065=cols[20]\n",
    "        ALD041=cols[14]\n",
    "        ALD042=cols[15]\n",
    "        ALD048=cols[16]\n",
    "        ALD049=cols[17]\n",
    "        ALD058=cols[18]\n",
    "        ALD059=cols[19]\n",
    "        \n",
    "        GTs2Vector()\n",
    "       \n",
    "       "
   ]
  }
 ],
 "metadata": {
  "kernelspec": {
   "display_name": "Python 3",
   "language": "python",
   "name": "python3"
  },
  "language_info": {
   "codemirror_mode": {
    "name": "ipython",
    "version": 3
   },
   "file_extension": ".py",
   "mimetype": "text/x-python",
   "name": "python",
   "nbconvert_exporter": "python",
   "pygments_lexer": "ipython3",
   "version": "3.6.5"
  }
 },
 "nbformat": 4,
 "nbformat_minor": 2
}
